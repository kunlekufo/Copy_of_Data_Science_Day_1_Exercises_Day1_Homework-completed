{
 "cells": [
  {
   "cell_type": "markdown",
   "metadata": {
    "id": "KdERlTpFuL5V"
   },
   "source": [
    "# Exercises"
   ]
  },
  {
   "cell_type": "markdown",
   "metadata": {
    "id": "to-gsrQyuL5Z"
   },
   "source": [
    "### #1 - Calculate the BMI (body mass index) on the two lists below using NDArrays..."
   ]
  },
  {
   "cell_type": "code",
   "execution_count": 1,
   "metadata": {
    "id": "iZlf9DzeuL5a"
   },
   "outputs": [
    {
     "name": "stdout",
     "output_type": "stream",
     "text": [
      "BMI values: [16.86620458 17.87755102 18.82562984 19.71450617 20.54794521 21.32943755\n",
      " 22.06222222]\n"
     ]
    }
   ],
   "source": [
    "# formula = weight / (height**2) * 730\n",
    "\n",
    "import numpy as np\n",
    "weights = np.array([110, 120, 130, 140, 150, 160, 170])  # in kilograms\n",
    "heights = np.array([69, 70, 71, 72, 73, 74, 75])  # in meters\n",
    "\n",
    "# Calculate BMI using the formula: BMI = weight / (height**2) * 730\n",
    "bmi_values = weights / (heights**2) * 730\n",
    "\n",
    "# Print the BMI values\n",
    "print(\"BMI values:\", bmi_values)\n",
    "\n",
    "\n",
    "\n"
   ]
  },
  {
   "cell_type": "markdown",
   "metadata": {
    "id": "RSsT8w8ouL5b"
   },
   "source": [
    "### #2 - Create a function that will take in two parameters and will create a random matrix based off of those parameters. Extra: Have additional parameters taken in that allow the user to choose the shape and data type of the matrix."
   ]
  },
  {
   "cell_type": "code",
   "execution_count": 2,
   "metadata": {
    "id": "ygFvj0aeuL5b"
   },
   "outputs": [
    {
     "name": "stdout",
     "output_type": "stream",
     "text": [
      "Random Matrix:\n",
      "[[0.31007287 0.20096594 0.62340006 0.71653862 0.49082596]\n",
      " [0.16149434 0.86241927 0.78274537 0.03388216 0.21091784]\n",
      " [0.52432675 0.97477858 0.11790438 0.09449576 0.80781008]\n",
      " [0.66562406 0.89267229 0.79606521 0.89651225 0.70709228]]\n",
      "\n",
      "Zeros Matrix:\n",
      "[[0 0 0 0 0]\n",
      " [0 0 0 0 0]\n",
      " [0 0 0 0 0]\n",
      " [0 0 0 0 0]]\n",
      "\n",
      "Ones Matrix:\n",
      "[[1. 1. 1. 1. 1.]\n",
      " [1. 1. 1. 1. 1.]\n",
      " [1. 1. 1. 1. 1.]\n",
      " [1. 1. 1. 1. 1.]]\n"
     ]
    }
   ],
   "source": [
    "import numpy as np\n",
    "\n",
    "def create_random_matrix(rows, columns, shape='random', dtype=float):\n",
    "    \"\"\"\n",
    "    Create a random matrix based on the given parameters.\n",
    "\n",
    "    Parameters:\n",
    "    - rows: Number of rows in the matrix.\n",
    "    - columns: Number of columns in the matrix.\n",
    "    - shape: (Optional) Shape of the matrix. Default is 'random'. Other options include 'zeros' and 'ones'.\n",
    "    - dtype: (Optional) Data type of the matrix. Default is float.\n",
    "\n",
    "    Returns:\n",
    "    - A NumPy array representing the random matrix.\n",
    "    \"\"\"\n",
    "\n",
    "    if shape == 'random':\n",
    "        matrix = np.random.rand(rows, columns)\n",
    "    elif shape == 'zeros':\n",
    "        matrix = np.zeros((rows, columns), dtype=dtype)\n",
    "    elif shape == 'ones':\n",
    "        matrix = np.ones((rows, columns), dtype=dtype)\n",
    "    else:\n",
    "        raise ValueError(\"Invalid shape. Supported shapes are 'random', 'zeros', and 'ones'.\")\n",
    "\n",
    "    return matrix.astype(dtype)\n",
    "\n",
    "# Example usage:\n",
    "rows = 4\n",
    "columns = 5 \n",
    "random_matrix = create_random_matrix(rows, columns)\n",
    "print(\"Random Matrix:\")\n",
    "print(random_matrix)\n",
    "\n",
    "zeros_matrix = create_random_matrix(rows, columns, shape='zeros', dtype=int)\n",
    "print(\"\\nZeros Matrix:\")\n",
    "print(zeros_matrix)\n",
    "\n",
    "ones_matrix = create_random_matrix(rows, columns, shape='ones', dtype=float)\n",
    "print(\"\\nOnes Matrix:\")\n",
    "print(ones_matrix)\n",
    "\n"
   ]
  },
  {
   "cell_type": "markdown",
   "metadata": {
    "id": "e5mP1UX9uL5c"
   },
   "source": [
    "### #3 - Extra: Open and load the data in the two text files that have the Boston Red Sox hitting data for the past seasons. Compare the difference in the two years by putting the data into an NDArray and running a differencial operation on it. The column to look for will be SLG.\n",
    "\n",
    "Your output should display which year (either 2017 or 2018) was a better year based on SLG"
   ]
  },
  {
   "cell_type": "code",
   "execution_count": 43,
   "metadata": {},
   "outputs": [
    {
     "name": "stdout",
     "output_type": "stream",
     "text": [
      "Requirement already satisfied: pandas in c:\\users\\kunle kuforiji\\anaconda3\\lib\\site-packages (2.0.3)\n",
      "Requirement already satisfied: python-dateutil>=2.8.2 in c:\\users\\kunle kuforiji\\appdata\\roaming\\python\\python311\\site-packages (from pandas) (2.8.2)\n",
      "Requirement already satisfied: pytz>=2020.1 in c:\\users\\kunle kuforiji\\anaconda3\\lib\\site-packages (from pandas) (2023.3.post1)\n",
      "Requirement already satisfied: tzdata>=2022.1 in c:\\users\\kunle kuforiji\\anaconda3\\lib\\site-packages (from pandas) (2023.3)\n",
      "Requirement already satisfied: numpy>=1.21.0 in c:\\users\\kunle kuforiji\\anaconda3\\lib\\site-packages (from pandas) (1.26.0)\n",
      "Requirement already satisfied: six>=1.5 in c:\\users\\kunle kuforiji\\appdata\\roaming\\python\\python311\\site-packages (from python-dateutil>=2.8.2->pandas) (1.16.0)\n",
      "Data for 2017:\n",
      "   Rk Pos               Name  Age    G   PA   AB   R    H  2B  ...    OBP  \\\n",
      "0   1   C  Christian Vazquez   26   99  345  324  43   94  18  ...  0.330   \n",
      "1   2  1B     Mitch Moreland   31  149  576  508  73  125  34  ...  0.326   \n",
      "2   3  2B     Dustin Pedroia   33  105  463  406  46  119  19  ...  0.369   \n",
      "3   4  SS    Xander Bogaerts   24  148  635  571  94  156  32  ...  0.343   \n",
      "4   5  3B      Rafael Devers   20   58  240  222  34   63  14  ...  0.338   \n",
      "\n",
      "     SLG    OPS  OPS+   TB  GDP  HBP  SH  SF  IBB  \n",
      "0  0.404  0.735    91  131   14    3   0   1    0  \n",
      "1  0.443  0.769    99  225   14    6   0   5    6  \n",
      "2  0.392  0.760   100  159   11    2   2   4    4  \n",
      "3  0.403  0.746    95  230   17    6   0   2    6  \n",
      "4  0.482  0.819   111  107    5    0   0   0    3  \n",
      "\n",
      "[5 rows x 28 columns]\n",
      "\n",
      "Data for 2018:\n",
      "   Rk Pos               Name  Age    G   PA   AB   R    H  2B  ...    OBP  \\\n",
      "0   1   C  Christian Vazquez   26   99  345  324  43   94  18  ...  0.330   \n",
      "1   2  1B     Mitch Moreland   31  149  576  508  73  125  34  ...  0.326   \n",
      "2   3  2B     Dustin Pedroia   33  105  463  406  46  119  19  ...  0.369   \n",
      "3   4  SS    Xander Bogaerts   24  148  635  571  94  156  32  ...  0.343   \n",
      "4   5  3B      Rafael Devers   20   58  240  222  34   63  14  ...  0.338   \n",
      "\n",
      "     SLG    OPS  OPS+   TB  GDP  HBP  SH  SF  IBB  \n",
      "0  0.404  0.735    91  131   14    3   0   1    0  \n",
      "1  0.443  0.769    99  225   14    6   0   5    6  \n",
      "2  0.392  0.760   100  159   11    2   2   4    4  \n",
      "3  0.403  0.746    95  230   17    6   0   2    6  \n",
      "4  0.482  0.819   111  107    5    0   0   0    3  \n",
      "\n",
      "[5 rows x 28 columns]\n",
      "SLG Difference:\n",
      "[0. 0. 0. 0. 0. 0. 0. 0. 0. 0. 0. 0. 0. 0. 0. 0. 0. 0. 0. 0. 0. 0. 0.]\n"
     ]
    }
   ],
   "source": [
    "!pip install pandas\n",
    "import pandas as pd\n",
    "\n",
    "# File paths\n",
    "file_path_2017 = r'C:\\Users\\Kunle Kuforiji\\Desktop\\Boston Red Sox hitting data 2017.csv'\n",
    "file_path_2018 = r'C:\\Users\\Kunle Kuforiji\\Desktop\\Boston Red 2018.csv'\n",
    "\n",
    "# Load data into DataFrames\n",
    "data_2017 = pd.read_csv(file_path_2017)\n",
    "data_2018 = pd.read_csv(file_path_2018)\n",
    "\n",
    "# Display the loaded data (optional)\n",
    "print(\"Data for 2017:\")\n",
    "print(data_2017.head())\n",
    "\n",
    "print(\"\\nData for 2018:\")\n",
    "print(data_2018.head())\n",
    "\n",
    "# Read CSV files into pandas DataFrames\n",
    "df_2017 = pd.read_csv(file_path_2017)\n",
    "df_2018 = pd.read_csv(file_path_2018)\n",
    "\n",
    "# Extract the SLG column from each DataFrame\n",
    "slg_2017 = df_2017['SLG']\n",
    "slg_2018 = df_2018['SLG']\n",
    "\n",
    "# Convert SLG columns to NumPy arrays\n",
    "slg_array_2017 = np.array(slg_2017)\n",
    "slg_array_2018 = np.array(slg_2018)\n",
    "\n",
    "# Perform differential operation\n",
    "slg_difference = slg_array_2018 - slg_array_2017\n",
    "\n",
    "# Display the results\n",
    "print(\"SLG Difference:\")\n",
    "print(slg_difference)\n",
    "\n",
    "\n",
    "\n"
   ]
  },
  {
   "cell_type": "code",
   "execution_count": 45,
   "metadata": {},
   "outputs": [
    {
     "name": "stdout",
     "output_type": "stream",
     "text": [
      "[( 1, b'C', b'Christian Vazquez', 26,  99, 345, 324,  43,  94, 18, 2,  5,  32,  7, 2, 17,  64, 0.29 , 0.33 , 0.404, 0.735,  91, 131, 14, 3, 0, 1, 0)\n",
      " ( 2, b'1B', b'Mitch Moreland', 31, 149, 576, 508,  73, 125, 34, 0, 22,  79,  0, 1, 57, 120, 0.246, 0.326, 0.443, 0.769,  99, 225, 14, 6, 0, 5, 6)\n",
      " ( 3, b'2B', b'Dustin Pedroia', 33, 105, 463, 406,  46, 119, 19, 0,  7,  62,  4, 3, 49,  48, 0.293, 0.369, 0.392, 0.76 , 100, 159, 11, 2, 2, 4, 4)\n",
      " ( 4, b'SS', b'Xander Bogaerts', 24, 148, 635, 571,  94, 156, 32, 6, 10,  62, 15, 1, 56, 116, 0.273, 0.343, 0.403, 0.746,  95, 230, 17, 6, 0, 2, 6)\n",
      " ( 5, b'3B', b'Rafael Devers', 20,  58, 240, 222,  34,  63, 14, 0, 10,  30,  3, 1, 18,  57, 0.284, 0.338, 0.482, 0.819, 111, 107,  5, 0, 0, 0, 3)\n",
      " ( 6, b'LF', b'Andrew Benintendi', 22, 151, 658, 573,  84, 155, 26, 1, 20,  90, 20, 5, 70, 112, 0.271, 0.352, 0.424, 0.776, 102, 243, 16, 6, 1, 8, 7)\n",
      " ( 7, b'CF', b'Jackie Bradley Jr.', 27, 133, 541, 482,  58, 118, 19, 3, 17,  63,  8, 3, 48, 124, 0.245, 0.323, 0.402, 0.726,  89, 194,  8, 9, 0, 2, 4)\n",
      " ( 8, b'RF', b'Mookie Betts', 24, 153, 712, 628, 101, 166, 46, 2, 24, 102, 26, 3, 77,  79, 0.264, 0.344, 0.459, 0.803, 108, 288,  9, 2, 0, 5, 9)\n",
      " ( 9, b'DH', b'Hanley Ramirez', 33, 133, 553, 496,  58, 120, 24, 0, 23,  62,  1, 3, 51, 116, 0.242, 0.32 , 0.429, 0.75 ,  94, 213, 15, 6, 0, 0, 8)\n",
      " (10, b'C', b'Sandy Leon', 28,  85, 301, 271,  32,  61, 14, 0,  7,  39,  0, 0, 25,  74, 0.225, 0.29 , 0.354, 0.644,  68,  96,  5, 1, 1, 3, 1)\n",
      " (11, b'UT', b'Chris Young', 33,  90, 276, 243,  30,  57, 12, 2,  7,  25,  3, 2, 30,  55, 0.235, 0.322, 0.387, 0.709,  85,  94,  4, 2, 0, 1, 0)\n",
      " (12, b'3B', b'Deven Marrero', 26,  71, 188, 171,  32,  36,  9, 0,  4,  27,  5, 0, 12,  61, 0.211, 0.259, 0.333, 0.593,  54,  57,  8, 0, 3, 2, 0)\n",
      " (13, b'2B', b'Eduardo Nunez', 30,  38, 173, 165,  23,  53, 12, 0,  8,  27,  6, 2,  6,  25, 0.321, 0.353, 0.539, 0.892, 128,  89,  3, 2, 0, 0, 0)\n",
      " (14, b'2B', b'Brock Holt', 29,  64, 164, 140,  20,  28,  6, 0,  0,   7,  2, 1, 19,  34, 0.2  , 0.305, 0.243, 0.548,  47,  34,  3, 3, 0, 2, 0)\n",
      " (15, b'IF', b'Josh Rutledge', 28,  37, 118, 107,  10,  24,  2, 1,  0,   9,  1, 0,  9,  31, 0.224, 0.297, 0.262, 0.558,  49,  28,  1, 2, 0, 0, 0)\n",
      " (16, b'3B', b'Pablo Sandoval', 30,  32, 108,  99,  10,  21,  2, 0,  4,  12,  0, 1,  8,  24, 0.212, 0.269, 0.354, 0.622,  61,  35,  4, 0, 0, 1, 0)\n",
      " (17, b'UT', b'Sam Travis', 23,  33,  83,  76,  13,  20,  6, 0,  0,   1,  1, 0,  6,  23, 0.263, 0.325, 0.342, 0.667,  75,  26,  2, 1, 0, 0, 0)\n",
      " (18, b'UT', b'Tzu-Wei Lin', 23,  25,  66,  56,   7,  15,  0, 2,  0,   2,  1, 1,  9,  17, 0.268, 0.369, 0.339, 0.709,  88,  19,  0, 0, 1, 0, 0)\n",
      " (19, b'IF', b'Marco Hernandez', 24,  21,  60,  58,   7,  16,  3, 0,  0,   2,  0, 1,  1,  15, 0.276, 0.3  , 0.328, 0.628,  65,  19,  0, 1, 0, 0, 0)\n",
      " (20, b'UT', b'Rajai Davis', 36,  17,  38,  36,   7,   9,  2, 0,  0,   2,  3, 1,  1,  13, 0.25 , 0.289, 0.306, 0.595,  56,  11,  2, 1, 0, 0, 0)\n",
      " (21, b'UT', b'Steve Selsky', 27,   8,   9,   9,   0,   1,  1, 0,  0,   0,  0, 0,  0,   5, 0.111, 0.111, 0.222, 0.333, -16,   2,  0, 0, 0, 0, 0)\n",
      " (22, b'UT', b'Blake Swihart', 25,   6,   7,   5,   1,   1,  0, 0,  0,   0,  0, 0,  2,   3, 0.2  , 0.429, 0.2  , 0.629,  74,   1,  0, 0, 0, 0, 0)\n",
      " (23, b'2B', b\"Chase d'Arnaud\", 30,   2,   1,   1,   2,   1,  0, 0,  0,   0,  0, 0,  0,   0, 1.   , 1.   , 1.   , 2.   , 428,   1,  0, 0, 0, 0, 0)]\n"
     ]
    }
   ],
   "source": [
    "FIELDS = ['Rk', 'Pos', 'Name', 'Age', 'G', 'PA', 'AB', 'R', 'H', '2B', '3B', 'HR', 'RBI', 'SB', 'CS', \n",
    "          'BB', 'SO', 'BA', 'OBP', 'SLG', 'OPS', 'OPS+', 'TB', 'GDP', 'HBP', 'SH', 'SF', 'IBB']\n",
    "\n",
    "DATATYPES = [('rk', 'i'), ('pos', '|S25'), ('name', '|S25'), ('age', 'i'), ('g', 'i'), ('pa', 'i'), ('ab', 'i'),\n",
    "                ('r', 'i'), ('h', 'i'), ('2b', 'i'), ('3b', 'i'), ('hr', 'i'), ('rbi', 'i'), ('sb', 'i'), ('cs', 'i'),\n",
    "                ('bb', 'i'), ('so', 'i'), ('ba', 'f'), ('obp', 'f'), ('slg', 'f'), ('ops', 'f'), ('opsp', 'i'),\n",
    "                ('tb', 'i'), ('gdp', 'i'), ('hbp', 'i'), ('sh', 'i'), ('sf', 'i'), ('ibb', 'i')]\n",
    "\n",
    "#Use this function to actually open the data inside of a NDArray\n",
    "\n",
    "import numpy as np\n",
    "\n",
    "FIELDS = ['Rk', 'Pos', 'Name', 'Age', 'G', 'PA', 'AB', 'R', 'H', '2B', '3B', 'HR', 'RBI', 'SB', 'CS',\n",
    "          'BB', 'SO', 'BA', 'OBP', 'SLG', 'OPS', 'OPS+', 'TB', 'GDP', 'HBP', 'SH', 'SF', 'IBB']\n",
    "\n",
    "DATATYPES = [('rk', 'i'), ('pos', '|S25'), ('name', '|S25'), ('age', 'i'), ('g', 'i'), ('pa', 'i'), ('ab', 'i'),\n",
    "             ('r', 'i'), ('h', 'i'), ('2b', 'i'), ('3b', 'i'), ('hr', 'i'), ('rbi', 'i'), ('sb', 'i'), ('cs', 'i'),\n",
    "             ('bb', 'i'), ('so', 'i'), ('ba', 'f'), ('obp', 'f'), ('slg', 'f'), ('ops', 'f'), ('opsp', 'i'),\n",
    "             ('tb', 'i'), ('gdp', 'i'), ('hbp', 'i'), ('sh', 'i'), ('sf', 'i'), ('ibb', 'i')]\n",
    "\n",
    "# Use this function to actually open the data inside of a NumPy structured array\n",
    "def open_data(file_path):\n",
    "    data = np.genfromtxt(file_path, delimiter=',', skip_header=1, names=FIELDS, dtype=DATATYPES)\n",
    "    return data\n",
    "\n",
    "# Example usage:\n",
    "file_path = r'C:\\Users\\Kunle Kuforiji\\Desktop\\Boston Red Sox hitting data 2017.csv'  \n",
    "your_data = open_data(file_path)\n",
    "print(your_data)\n"
   ]
  },
  {
   "cell_type": "code",
   "execution_count": null,
   "metadata": {},
   "outputs": [],
   "source": []
  }
 ],
 "metadata": {
  "colab": {
   "name": "Copy of Data_Science_Day_1_Exercises-Day1- Homework.ipynb",
   "provenance": []
  },
  "kernelspec": {
   "display_name": "Python 3 (ipykernel)",
   "language": "python",
   "name": "python3"
  },
  "language_info": {
   "codemirror_mode": {
    "name": "ipython",
    "version": 3
   },
   "file_extension": ".py",
   "mimetype": "text/x-python",
   "name": "python",
   "nbconvert_exporter": "python",
   "pygments_lexer": "ipython3",
   "version": "3.11.5"
  }
 },
 "nbformat": 4,
 "nbformat_minor": 1
}
